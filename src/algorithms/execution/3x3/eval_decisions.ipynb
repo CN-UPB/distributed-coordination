{
 "cells": [
  {
   "cell_type": "markdown",
   "metadata": {
    "collapsed": true,
    "pycharm": {
     "name": "#%% md\n"
    }
   },
   "source": [
    "# Plotting of Evaluation Results: Decision Times\n",
    "\n",
    "Compare number of decisions and time for decisions between different algorithms.\n",
    "Take decisions per flow, node, and in total into account."
   ]
  },
  {
   "cell_type": "code",
   "execution_count": 2,
   "outputs": [],
   "source": [
    "import pandas as pd\n",
    "import seaborn as sns\n",
    "import matplotlib.pyplot as plt\n",
    "from IPython.core.display import display\n",
    "\n",
    "result_dir = 'decision_results'\n",
    "runs = [i for i in range(60, 110)]\n",
    "config = 'hc'   # heterogeneous capacity\n",
    "network = 'dfn_58.graphml'\n",
    "ing = '0.3'\n",
    "algos = ['gpasp', 'spr2', 'bjointsp', 'bjointsp_recalc']\n",
    "labels = ['GCASP', 'SBC', 'BSP', 'BSP+']"
   ],
   "metadata": {
    "collapsed": false,
    "pycharm": {
     "name": "#%%\n",
     "is_executing": false
    }
   }
  },
  {
   "cell_type": "code",
   "execution_count": 3,
   "outputs": [
    {
     "name": "stdout",
     "text": [
      "Run decision_results/92/hc/dfn_58.graphml/0.3/bjointsp_recalc did not complete successfully. Skipping...\n",
      "Run decision_results/104/hc/dfn_58.graphml/0.3/bjointsp_recalc did not complete successfully. Skipping...\n",
      "Run decision_results/105/hc/dfn_58.graphml/0.3/bjointsp_recalc did not complete successfully. Skipping...\n"
     ],
     "output_type": "stream"
    },
    {
     "data": {
      "text/plain": "   flow   node  dec_count  dec_time_avg  dec_time_std  run algorithm\n0     1   pop0          2      0.000186      0.000009   60     GCASP\n1     1   pop1          1      0.000187      0.000000   60     GCASP\n2     1  pop53          3      0.000185      0.000006   60     GCASP\n3     1  pop50          2      0.000265      0.000078   60     GCASP\n4     1  pop14          1      0.000185      0.000000   60     GCASP",
      "text/html": "<div>\n<style scoped>\n    .dataframe tbody tr th:only-of-type {\n        vertical-align: middle;\n    }\n\n    .dataframe tbody tr th {\n        vertical-align: top;\n    }\n\n    .dataframe thead th {\n        text-align: right;\n    }\n</style>\n<table border=\"1\" class=\"dataframe\">\n  <thead>\n    <tr style=\"text-align: right;\">\n      <th></th>\n      <th>flow</th>\n      <th>node</th>\n      <th>dec_count</th>\n      <th>dec_time_avg</th>\n      <th>dec_time_std</th>\n      <th>run</th>\n      <th>algorithm</th>\n    </tr>\n  </thead>\n  <tbody>\n    <tr>\n      <th>0</th>\n      <td>1</td>\n      <td>pop0</td>\n      <td>2</td>\n      <td>0.000186</td>\n      <td>0.000009</td>\n      <td>60</td>\n      <td>GCASP</td>\n    </tr>\n    <tr>\n      <th>1</th>\n      <td>1</td>\n      <td>pop1</td>\n      <td>1</td>\n      <td>0.000187</td>\n      <td>0.000000</td>\n      <td>60</td>\n      <td>GCASP</td>\n    </tr>\n    <tr>\n      <th>2</th>\n      <td>1</td>\n      <td>pop53</td>\n      <td>3</td>\n      <td>0.000185</td>\n      <td>0.000006</td>\n      <td>60</td>\n      <td>GCASP</td>\n    </tr>\n    <tr>\n      <th>3</th>\n      <td>1</td>\n      <td>pop50</td>\n      <td>2</td>\n      <td>0.000265</td>\n      <td>0.000078</td>\n      <td>60</td>\n      <td>GCASP</td>\n    </tr>\n    <tr>\n      <th>4</th>\n      <td>1</td>\n      <td>pop14</td>\n      <td>1</td>\n      <td>0.000185</td>\n      <td>0.000000</td>\n      <td>60</td>\n      <td>GCASP</td>\n    </tr>\n  </tbody>\n</table>\n</div>"
     },
     "metadata": {},
     "output_type": "execute_result",
     "execution_count": 3
    }
   ],
   "source": [
    "df = None\n",
    "for run in runs:\n",
    "    for i, algo in enumerate(algos):\n",
    "        # check if run completed successfully (contains metric results after t=1000); else skip\n",
    "        df_metrics = pd.read_csv(f'{result_dir}/{run}/{config}/{network}/{ing}/{algo}/metrics.csv')\n",
    "        if df_metrics['time'].values[-1] != 1000:\n",
    "            print(f'Run {result_dir}/{run}/{config}/{network}/{ing}/{algo} did not complete successfully. Skipping...')\n",
    "            continue\n",
    "        \n",
    "        # read decision results\n",
    "        df_tmp = pd.read_csv(f'{result_dir}/{run}/{config}/{network}/{ing}/{algo}/agg_decisions.csv')\n",
    "        df_tmp['run'] = run\n",
    "        df_tmp['algorithm'] = labels[i]\n",
    "        # create df for first algo\n",
    "        if df is None:\n",
    "            df = df_tmp.copy()\n",
    "        # then append\n",
    "        else:\n",
    "            df = df.append(df_tmp)\n",
    "        \n",
    "df.head()"
   ],
   "metadata": {
    "collapsed": false,
    "pycharm": {
     "name": "#%%\n",
     "is_executing": false
    }
   }
  },
  {
   "cell_type": "code",
   "execution_count": 4,
   "outputs": [
    {
     "data": {
      "text/plain": "    algorithm  run  dec_count  dec_time_avg  dec_time_std\n0         BSP   60       4487    809.564816      0.000000\n1         BSP   61       3365    576.444923      0.000000\n2         BSP   62       5866   2159.259855      0.000000\n3         BSP   63       5445   2066.071076      0.000000\n4         BSP   64       3994   1419.500787      0.000000\n..        ...  ...        ...           ...           ...\n192       SBC  105      45054    142.905152     95.262072\n193       SBC  106      33169     62.375284     56.209056\n194       SBC  107      43232     97.988170     85.555178\n195       SBC  108      39739    109.190105     74.911596\n196       SBC  109      39415     70.503461     64.726331\n\n[197 rows x 5 columns]",
      "text/html": "<div>\n<style scoped>\n    .dataframe tbody tr th:only-of-type {\n        vertical-align: middle;\n    }\n\n    .dataframe tbody tr th {\n        vertical-align: top;\n    }\n\n    .dataframe thead th {\n        text-align: right;\n    }\n</style>\n<table border=\"1\" class=\"dataframe\">\n  <thead>\n    <tr style=\"text-align: right;\">\n      <th></th>\n      <th>algorithm</th>\n      <th>run</th>\n      <th>dec_count</th>\n      <th>dec_time_avg</th>\n      <th>dec_time_std</th>\n    </tr>\n  </thead>\n  <tbody>\n    <tr>\n      <th>0</th>\n      <td>BSP</td>\n      <td>60</td>\n      <td>4487</td>\n      <td>809.564816</td>\n      <td>0.000000</td>\n    </tr>\n    <tr>\n      <th>1</th>\n      <td>BSP</td>\n      <td>61</td>\n      <td>3365</td>\n      <td>576.444923</td>\n      <td>0.000000</td>\n    </tr>\n    <tr>\n      <th>2</th>\n      <td>BSP</td>\n      <td>62</td>\n      <td>5866</td>\n      <td>2159.259855</td>\n      <td>0.000000</td>\n    </tr>\n    <tr>\n      <th>3</th>\n      <td>BSP</td>\n      <td>63</td>\n      <td>5445</td>\n      <td>2066.071076</td>\n      <td>0.000000</td>\n    </tr>\n    <tr>\n      <th>4</th>\n      <td>BSP</td>\n      <td>64</td>\n      <td>3994</td>\n      <td>1419.500787</td>\n      <td>0.000000</td>\n    </tr>\n    <tr>\n      <th>...</th>\n      <td>...</td>\n      <td>...</td>\n      <td>...</td>\n      <td>...</td>\n      <td>...</td>\n    </tr>\n    <tr>\n      <th>192</th>\n      <td>SBC</td>\n      <td>105</td>\n      <td>45054</td>\n      <td>142.905152</td>\n      <td>95.262072</td>\n    </tr>\n    <tr>\n      <th>193</th>\n      <td>SBC</td>\n      <td>106</td>\n      <td>33169</td>\n      <td>62.375284</td>\n      <td>56.209056</td>\n    </tr>\n    <tr>\n      <th>194</th>\n      <td>SBC</td>\n      <td>107</td>\n      <td>43232</td>\n      <td>97.988170</td>\n      <td>85.555178</td>\n    </tr>\n    <tr>\n      <th>195</th>\n      <td>SBC</td>\n      <td>108</td>\n      <td>39739</td>\n      <td>109.190105</td>\n      <td>74.911596</td>\n    </tr>\n    <tr>\n      <th>196</th>\n      <td>SBC</td>\n      <td>109</td>\n      <td>39415</td>\n      <td>70.503461</td>\n      <td>64.726331</td>\n    </tr>\n  </tbody>\n</table>\n<p>197 rows × 5 columns</p>\n</div>"
     },
     "metadata": {},
     "output_type": "execute_result",
     "execution_count": 4
    }
   ],
   "source": [
    "# total decisions per algo\n",
    "df_sum_total = df.groupby(['algorithm', 'run']).sum().reset_index().drop(columns=['flow'])\n",
    "df_sum_total"
   ],
   "metadata": {
    "collapsed": false,
    "pycharm": {
     "name": "#%%\n",
     "is_executing": false
    }
   }
  },
  {
   "cell_type": "code",
   "execution_count": 5,
   "outputs": [
    {
     "data": {
      "text/plain": "    algorithm  run    dec_count  dec_time_avg  dec_time_std\n0         BSP   60  4487.000000    809.564816      0.000000\n1         BSP   61  3365.000000    576.444923      0.000000\n2         BSP   62  5866.000000   2159.259855      0.000000\n3         BSP   63  5445.000000   2066.071076      0.000000\n4         BSP   64  3994.000000   1419.500787      0.000000\n..        ...  ...          ...           ...           ...\n192       SBC  105   866.423077      2.748176      1.831963\n193       SBC  106   705.723404      1.327134      1.195937\n194       SBC  107   919.829787      2.084855      1.820323\n195       SBC  108   794.780000      2.183802      1.498232\n196       SBC  109   804.387755      1.438846      1.320946\n\n[197 rows x 5 columns]",
      "text/html": "<div>\n<style scoped>\n    .dataframe tbody tr th:only-of-type {\n        vertical-align: middle;\n    }\n\n    .dataframe tbody tr th {\n        vertical-align: top;\n    }\n\n    .dataframe thead th {\n        text-align: right;\n    }\n</style>\n<table border=\"1\" class=\"dataframe\">\n  <thead>\n    <tr style=\"text-align: right;\">\n      <th></th>\n      <th>algorithm</th>\n      <th>run</th>\n      <th>dec_count</th>\n      <th>dec_time_avg</th>\n      <th>dec_time_std</th>\n    </tr>\n  </thead>\n  <tbody>\n    <tr>\n      <th>0</th>\n      <td>BSP</td>\n      <td>60</td>\n      <td>4487.000000</td>\n      <td>809.564816</td>\n      <td>0.000000</td>\n    </tr>\n    <tr>\n      <th>1</th>\n      <td>BSP</td>\n      <td>61</td>\n      <td>3365.000000</td>\n      <td>576.444923</td>\n      <td>0.000000</td>\n    </tr>\n    <tr>\n      <th>2</th>\n      <td>BSP</td>\n      <td>62</td>\n      <td>5866.000000</td>\n      <td>2159.259855</td>\n      <td>0.000000</td>\n    </tr>\n    <tr>\n      <th>3</th>\n      <td>BSP</td>\n      <td>63</td>\n      <td>5445.000000</td>\n      <td>2066.071076</td>\n      <td>0.000000</td>\n    </tr>\n    <tr>\n      <th>4</th>\n      <td>BSP</td>\n      <td>64</td>\n      <td>3994.000000</td>\n      <td>1419.500787</td>\n      <td>0.000000</td>\n    </tr>\n    <tr>\n      <th>...</th>\n      <td>...</td>\n      <td>...</td>\n      <td>...</td>\n      <td>...</td>\n      <td>...</td>\n    </tr>\n    <tr>\n      <th>192</th>\n      <td>SBC</td>\n      <td>105</td>\n      <td>866.423077</td>\n      <td>2.748176</td>\n      <td>1.831963</td>\n    </tr>\n    <tr>\n      <th>193</th>\n      <td>SBC</td>\n      <td>106</td>\n      <td>705.723404</td>\n      <td>1.327134</td>\n      <td>1.195937</td>\n    </tr>\n    <tr>\n      <th>194</th>\n      <td>SBC</td>\n      <td>107</td>\n      <td>919.829787</td>\n      <td>2.084855</td>\n      <td>1.820323</td>\n    </tr>\n    <tr>\n      <th>195</th>\n      <td>SBC</td>\n      <td>108</td>\n      <td>794.780000</td>\n      <td>2.183802</td>\n      <td>1.498232</td>\n    </tr>\n    <tr>\n      <th>196</th>\n      <td>SBC</td>\n      <td>109</td>\n      <td>804.387755</td>\n      <td>1.438846</td>\n      <td>1.320946</td>\n    </tr>\n  </tbody>\n</table>\n<p>197 rows × 5 columns</p>\n</div>"
     },
     "metadata": {},
     "output_type": "execute_result",
     "execution_count": 5
    }
   ],
   "source": [
    "# per node decisions per algo\n",
    "df_sum_by_node = df.groupby(['algorithm', 'node', 'run']).sum().drop(columns=['flow'])\n",
    "# display(df_sum_by_node)\n",
    "df_sum_by_node = df_sum_by_node.groupby(['algorithm', 'run']).mean().reset_index()\n",
    "# df_sum_by_node_std = df_sum_by_node.groupby('algorithm').std().reset_index()\n",
    "df_sum_by_node"
   ],
   "metadata": {
    "collapsed": false,
    "pycharm": {
     "name": "#%%\n",
     "is_executing": false
    }
   }
  },
  {
   "cell_type": "code",
   "execution_count": 6,
   "outputs": [
    {
     "data": {
      "text/plain": "    algorithm  run  dec_count  dec_time_avg  dec_time_std\n0         BSP   60   1.000000      0.180425      0.000000\n1         BSP   61   1.000000      0.171306      0.000000\n2         BSP   62   1.000000      0.368097      0.000000\n3         BSP   63   1.000000      0.379444      0.000000\n4         BSP   64   1.000000      0.355408      0.000000\n..        ...  ...        ...           ...           ...\n192       SBC  105  11.157504      0.035390      0.023591\n193       SBC  106   9.550533      0.017960      0.016185\n194       SBC  107   9.617798      0.021799      0.019033\n195       SBC  108  10.378428      0.028517      0.019564\n196       SBC  109   9.206961      0.016469      0.015119\n\n[197 rows x 5 columns]",
      "text/html": "<div>\n<style scoped>\n    .dataframe tbody tr th:only-of-type {\n        vertical-align: middle;\n    }\n\n    .dataframe tbody tr th {\n        vertical-align: top;\n    }\n\n    .dataframe thead th {\n        text-align: right;\n    }\n</style>\n<table border=\"1\" class=\"dataframe\">\n  <thead>\n    <tr style=\"text-align: right;\">\n      <th></th>\n      <th>algorithm</th>\n      <th>run</th>\n      <th>dec_count</th>\n      <th>dec_time_avg</th>\n      <th>dec_time_std</th>\n    </tr>\n  </thead>\n  <tbody>\n    <tr>\n      <th>0</th>\n      <td>BSP</td>\n      <td>60</td>\n      <td>1.000000</td>\n      <td>0.180425</td>\n      <td>0.000000</td>\n    </tr>\n    <tr>\n      <th>1</th>\n      <td>BSP</td>\n      <td>61</td>\n      <td>1.000000</td>\n      <td>0.171306</td>\n      <td>0.000000</td>\n    </tr>\n    <tr>\n      <th>2</th>\n      <td>BSP</td>\n      <td>62</td>\n      <td>1.000000</td>\n      <td>0.368097</td>\n      <td>0.000000</td>\n    </tr>\n    <tr>\n      <th>3</th>\n      <td>BSP</td>\n      <td>63</td>\n      <td>1.000000</td>\n      <td>0.379444</td>\n      <td>0.000000</td>\n    </tr>\n    <tr>\n      <th>4</th>\n      <td>BSP</td>\n      <td>64</td>\n      <td>1.000000</td>\n      <td>0.355408</td>\n      <td>0.000000</td>\n    </tr>\n    <tr>\n      <th>...</th>\n      <td>...</td>\n      <td>...</td>\n      <td>...</td>\n      <td>...</td>\n      <td>...</td>\n    </tr>\n    <tr>\n      <th>192</th>\n      <td>SBC</td>\n      <td>105</td>\n      <td>11.157504</td>\n      <td>0.035390</td>\n      <td>0.023591</td>\n    </tr>\n    <tr>\n      <th>193</th>\n      <td>SBC</td>\n      <td>106</td>\n      <td>9.550533</td>\n      <td>0.017960</td>\n      <td>0.016185</td>\n    </tr>\n    <tr>\n      <th>194</th>\n      <td>SBC</td>\n      <td>107</td>\n      <td>9.617798</td>\n      <td>0.021799</td>\n      <td>0.019033</td>\n    </tr>\n    <tr>\n      <th>195</th>\n      <td>SBC</td>\n      <td>108</td>\n      <td>10.378428</td>\n      <td>0.028517</td>\n      <td>0.019564</td>\n    </tr>\n    <tr>\n      <th>196</th>\n      <td>SBC</td>\n      <td>109</td>\n      <td>9.206961</td>\n      <td>0.016469</td>\n      <td>0.015119</td>\n    </tr>\n  </tbody>\n</table>\n<p>197 rows × 5 columns</p>\n</div>"
     },
     "metadata": {},
     "output_type": "execute_result",
     "execution_count": 6
    }
   ],
   "source": [
    "# per flow decisions per algo\n",
    "df_sum_by_flow = df.groupby(['algorithm', 'flow', 'run']).sum()\n",
    "# display(df_sum_by_flow)\n",
    "df_sum_by_flow = df_sum_by_flow.groupby(['algorithm', 'run']).mean().reset_index()\n",
    "# df_sum_by_flow_std = df_sum_by_flow.groupby('algorithm').std().reset_index()\n",
    "df_sum_by_flow"
   ],
   "metadata": {
    "collapsed": false,
    "pycharm": {
     "name": "#%%\n",
     "is_executing": false
    }
   }
  },
  {
   "cell_type": "code",
   "execution_count": 7,
   "outputs": [
    {
     "data": {
      "text/plain": "  algorithm  run  dec_count  dec_time_avg  dec_time_std    agg\n0       BSP   60     4487.0    809.564816           0.0  Total\n1       BSP   61     3365.0    576.444923           0.0  Total\n2       BSP   62     5866.0   2159.259855           0.0  Total\n3       BSP   63     5445.0   2066.071076           0.0  Total\n4       BSP   64     3994.0   1419.500787           0.0  Total",
      "text/html": "<div>\n<style scoped>\n    .dataframe tbody tr th:only-of-type {\n        vertical-align: middle;\n    }\n\n    .dataframe tbody tr th {\n        vertical-align: top;\n    }\n\n    .dataframe thead th {\n        text-align: right;\n    }\n</style>\n<table border=\"1\" class=\"dataframe\">\n  <thead>\n    <tr style=\"text-align: right;\">\n      <th></th>\n      <th>algorithm</th>\n      <th>run</th>\n      <th>dec_count</th>\n      <th>dec_time_avg</th>\n      <th>dec_time_std</th>\n      <th>agg</th>\n    </tr>\n  </thead>\n  <tbody>\n    <tr>\n      <th>0</th>\n      <td>BSP</td>\n      <td>60</td>\n      <td>4487.0</td>\n      <td>809.564816</td>\n      <td>0.0</td>\n      <td>Total</td>\n    </tr>\n    <tr>\n      <th>1</th>\n      <td>BSP</td>\n      <td>61</td>\n      <td>3365.0</td>\n      <td>576.444923</td>\n      <td>0.0</td>\n      <td>Total</td>\n    </tr>\n    <tr>\n      <th>2</th>\n      <td>BSP</td>\n      <td>62</td>\n      <td>5866.0</td>\n      <td>2159.259855</td>\n      <td>0.0</td>\n      <td>Total</td>\n    </tr>\n    <tr>\n      <th>3</th>\n      <td>BSP</td>\n      <td>63</td>\n      <td>5445.0</td>\n      <td>2066.071076</td>\n      <td>0.0</td>\n      <td>Total</td>\n    </tr>\n    <tr>\n      <th>4</th>\n      <td>BSP</td>\n      <td>64</td>\n      <td>3994.0</td>\n      <td>1419.500787</td>\n      <td>0.0</td>\n      <td>Total</td>\n    </tr>\n  </tbody>\n</table>\n</div>"
     },
     "metadata": {},
     "output_type": "execute_result",
     "execution_count": 7
    }
   ],
   "source": [
    "# concat dfs for long format\n",
    "df_sum_total['agg'] = 'Total'\n",
    "df_sum_by_node['agg'] = 'Per Node'\n",
    "df_sum_by_flow['agg'] = 'Per Flow'\n",
    "df_all = df_sum_total.append([df_sum_by_flow, df_sum_by_node])\n",
    "df_all.head()\n"
   ],
   "metadata": {
    "collapsed": false,
    "pycharm": {
     "name": "#%%\n",
     "is_executing": false
    }
   }
  },
  {
   "cell_type": "code",
   "execution_count": 8,
   "outputs": [
    {
     "data": {
      "text/plain": "<Figure size 288x288 with 1 Axes>",
      "image/png": "[encoded data removed]"
     },
     "metadata": {
      "needs_background": "light"
     },
     "output_type": "display_data"
    }
   ],
   "source": [
    "# plot num decisions\n",
    "fig, ax = plt.subplots(figsize=(4, 4))\n",
    "sns.set(font_scale=1.2, style='white')\n",
    "\n",
    "sns.barplot('agg', 'dec_count', hue='algorithm', hue_order=labels, data=df_all, ax=ax)\n",
    "ax.set_xlabel('Measurement Aggregation')\n",
    "ax.set_ylabel('Num. Coordination Decisions')\n",
    "ax.set_yscale('log')\n",
    "\n",
    "# remove legend title\n",
    "handles, _ = ax.get_legend_handles_labels()\n",
    "ax.legend(handles=handles, labels=labels)\n",
    "    \n",
    "# save\n",
    "plt.tight_layout()\n",
    "network_name = network.replace('.graphml', '')\n",
    "ing_str = ing.replace('.', '')\n",
    "fig.savefig(f'plots/{network_name}_{config}_{ing_str}_decisions.pdf')"
   ],
   "metadata": {
    "collapsed": false,
    "pycharm": {
     "name": "#%%\n",
     "is_executing": false
    }
   }
  },
  {
   "cell_type": "code",
   "execution_count": 9,
   "outputs": [
    {
     "data": {
      "text/plain": "<Figure size 288x288 with 1 Axes>",
      "image/png": "[encoded data removed]"
     },
     "metadata": {},
     "output_type": "display_data"
    }
   ],
   "source": [
    "# plot runtimes\n",
    "fig, ax = plt.subplots(figsize=(4, 4))\n",
    "sns.set(font_scale=1.2, style='white')\n",
    "\n",
    "sns.barplot('agg', 'dec_time_avg', hue='algorithm', hue_order=labels, data=df_all, ax=ax)\n",
    "ax.set_xlabel('Measurement Aggregation')\n",
    "ax.set_ylabel('Coordination Runtime [s]')\n",
    "ax.set_yscale('log')\n",
    "\n",
    "# remove legend title\n",
    "handles, _ = ax.get_legend_handles_labels()\n",
    "ax.legend(handles=handles, labels=labels)\n",
    "\n",
    "# save\n",
    "plt.tight_layout()\n",
    "network_name = network.replace('.graphml', '')\n",
    "ing_str = ing.replace('.', '')\n",
    "fig.savefig(f'plots/{network_name}_{config}_{ing_str}_runtime.pdf')"
   ],
   "metadata": {
    "collapsed": false,
    "pycharm": {
     "name": "#%%\n",
     "is_executing": false
    }
   }
  },
  {
   "cell_type": "code",
   "execution_count": 17,
   "outputs": [
    {
     "name": "stdout",
     "text": [
      "Total, GCASP: 119.55109132876352 faster than BSP\n",
      "Total, SBC: 13.116000470586837 faster than BSP\n",
      "Per Flow, GCASP: 121.82515069769593 faster than BSP\n",
      "Per Flow, SBC: 13.805386353535209 faster than BSP\n",
      "Per Node, GCASP: 6898.90330848095 faster than BSP\n",
      "Per Node, SBC: 669.4307700389624 faster than BSP\n"
     ],
     "output_type": "stream"
    }
   ],
   "source": [
    "for agg in ['Total', 'Per Flow', 'Per Node']:\n",
    "    for alg in ['GCASP', 'SBC']:\n",
    "        df_flow = df_all[df_all['agg'] == agg]\n",
    "        df_flow.head()\n",
    "        \n",
    "        time_bsp = df_flow[df_flow['algorithm'] == 'BSP']['dec_time_avg'].mean() \n",
    "        time_distr = df_flow[df_flow['algorithm'] == alg]['dec_time_avg'].mean()\n",
    "        print(f\"{agg}, {alg}: {time_bsp / time_distr} faster than BSP\")\n"
   ],
   "metadata": {
    "collapsed": false,
    "pycharm": {
     "name": "#%%\n",
     "is_executing": false
    }
   }
  },
  {
   "cell_type": "code",
   "execution_count": null,
   "outputs": [],
   "source": [
    "\n"
   ],
   "metadata": {
    "collapsed": false,
    "pycharm": {
     "name": "#%%\n"
    }
   }
  }
 ],
 "metadata": {
  "kernelspec": {
   "display_name": "Python 3",
   "language": "python",
   "name": "python3"
  },
  "language_info": {
   "codemirror_mode": {
    "name": "ipython",
    "version": 2
   },
   "file_extension": ".py",
   "mimetype": "text/x-python",
   "name": "python",
   "nbconvert_exporter": "python",
   "pygments_lexer": "ipython2",
   "version": "2.7.6"
  }
 },
 "nbformat": 4,
 "nbformat_minor": 0
}