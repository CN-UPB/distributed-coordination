{
 "cells": [
  {
   "cell_type": "markdown",
   "metadata": {
    "collapsed": true,
    "pycharm": {
     "name": "#%% md\n"
    }
   },
   "source": [
    "# Plotting of Evaluation Results: Decision Times\n",
    "\n",
    "Compare number of decisions and time for decisions between different algorithms.\n",
    "Take decisions per flow, node, and in total into account."
   ]
  },
  {
   "cell_type": "code",
   "execution_count": 136,
   "outputs": [],
   "source": [
    "import pandas as pd\n",
    "import seaborn as sns\n",
    "import matplotlib.pyplot as plt\n",
    "from IPython.core.display import display\n",
    "\n",
    "result_dir = 'decision_results'\n",
    "runs = ['60', '61']\n",
    "config = 'hc'\n",
    "network = 'dfn_58.graphml'\n",
    "ingresses = ['0.3']\n",
    "algos = ['gpasp', 'spr2', 'bjointsp', 'bjointsp_recalc']\n",
    "labels = ['Greedy', 'Score', 'B-JointSP', 'B-JointSP Re.']"
   ],
   "metadata": {
    "collapsed": false,
    "pycharm": {
     "name": "#%%\n",
     "is_executing": false
    }
   }
  },
  {
   "cell_type": "code",
   "execution_count": 137,
   "outputs": [
    {
     "data": {
      "text/plain": "   flow   node  dec_count  dec_time_avg  dec_time_std run algorithm\n0     1   pop0          2      0.000186      0.000009  60    Greedy\n1     1   pop1          1      0.000187      0.000000  60    Greedy\n2     1  pop53          3      0.000185      0.000006  60    Greedy\n3     1  pop50          2      0.000265      0.000078  60    Greedy\n4     1  pop14          1      0.000185      0.000000  60    Greedy",
      "text/html": "<div>\n<style scoped>\n    .dataframe tbody tr th:only-of-type {\n        vertical-align: middle;\n    }\n\n    .dataframe tbody tr th {\n        vertical-align: top;\n    }\n\n    .dataframe thead th {\n        text-align: right;\n    }\n</style>\n<table border=\"1\" class=\"dataframe\">\n  <thead>\n    <tr style=\"text-align: right;\">\n      <th></th>\n      <th>flow</th>\n      <th>node</th>\n      <th>dec_count</th>\n      <th>dec_time_avg</th>\n      <th>dec_time_std</th>\n      <th>run</th>\n      <th>algorithm</th>\n    </tr>\n  </thead>\n  <tbody>\n    <tr>\n      <th>0</th>\n      <td>1</td>\n      <td>pop0</td>\n      <td>2</td>\n      <td>0.000186</td>\n      <td>0.000009</td>\n      <td>60</td>\n      <td>Greedy</td>\n    </tr>\n    <tr>\n      <th>1</th>\n      <td>1</td>\n      <td>pop1</td>\n      <td>1</td>\n      <td>0.000187</td>\n      <td>0.000000</td>\n      <td>60</td>\n      <td>Greedy</td>\n    </tr>\n    <tr>\n      <th>2</th>\n      <td>1</td>\n      <td>pop53</td>\n      <td>3</td>\n      <td>0.000185</td>\n      <td>0.000006</td>\n      <td>60</td>\n      <td>Greedy</td>\n    </tr>\n    <tr>\n      <th>3</th>\n      <td>1</td>\n      <td>pop50</td>\n      <td>2</td>\n      <td>0.000265</td>\n      <td>0.000078</td>\n      <td>60</td>\n      <td>Greedy</td>\n    </tr>\n    <tr>\n      <th>4</th>\n      <td>1</td>\n      <td>pop14</td>\n      <td>1</td>\n      <td>0.000185</td>\n      <td>0.000000</td>\n      <td>60</td>\n      <td>Greedy</td>\n    </tr>\n  </tbody>\n</table>\n</div>"
     },
     "metadata": {},
     "output_type": "execute_result",
     "execution_count": 137
    }
   ],
   "source": [
    "df = None\n",
    "for run in runs:\n",
    "    for i, algo in enumerate(algos):\n",
    "        for ing in ingresses:\n",
    "            df_tmp = pd.read_csv(f'{result_dir}/{run}/{config}/{network}/{ing}/{algo}/agg_decisions.csv')\n",
    "            df_tmp['run'] = run\n",
    "            df_tmp['algorithm'] = labels[i]\n",
    "            # create df for first algo\n",
    "            if df is None:\n",
    "                df = df_tmp.copy()\n",
    "            # then append\n",
    "            else:\n",
    "                df = df.append(df_tmp)\n",
    "        \n",
    "df.head()"
   ],
   "metadata": {
    "collapsed": false,
    "pycharm": {
     "name": "#%%\n",
     "is_executing": false
    }
   }
  },
  {
   "cell_type": "code",
   "execution_count": 138,
   "outputs": [
    {
     "data": {
      "text/plain": "       algorithm run  dec_count  dec_time_avg  dec_time_std\n0      B-JointSP  60       4487    809.564816      0.000000\n1      B-JointSP  61       3365    576.444923      0.000000\n2  B-JointSP Re.  60       6237    783.110461     13.120893\n3  B-JointSP Re.  61       4770    586.711449      8.482268\n4         Greedy  60      44274      5.082745      0.514045\n5         Greedy  61      49273      5.452347      0.508136\n6          Score  60      39340     32.858386     29.508450\n7          Score  61      34335     25.724968     20.799941",
      "text/html": "<div>\n<style scoped>\n    .dataframe tbody tr th:only-of-type {\n        vertical-align: middle;\n    }\n\n    .dataframe tbody tr th {\n        vertical-align: top;\n    }\n\n    .dataframe thead th {\n        text-align: right;\n    }\n</style>\n<table border=\"1\" class=\"dataframe\">\n  <thead>\n    <tr style=\"text-align: right;\">\n      <th></th>\n      <th>algorithm</th>\n      <th>run</th>\n      <th>dec_count</th>\n      <th>dec_time_avg</th>\n      <th>dec_time_std</th>\n    </tr>\n  </thead>\n  <tbody>\n    <tr>\n      <th>0</th>\n      <td>B-JointSP</td>\n      <td>60</td>\n      <td>4487</td>\n      <td>809.564816</td>\n      <td>0.000000</td>\n    </tr>\n    <tr>\n      <th>1</th>\n      <td>B-JointSP</td>\n      <td>61</td>\n      <td>3365</td>\n      <td>576.444923</td>\n      <td>0.000000</td>\n    </tr>\n    <tr>\n      <th>2</th>\n      <td>B-JointSP Re.</td>\n      <td>60</td>\n      <td>6237</td>\n      <td>783.110461</td>\n      <td>13.120893</td>\n    </tr>\n    <tr>\n      <th>3</th>\n      <td>B-JointSP Re.</td>\n      <td>61</td>\n      <td>4770</td>\n      <td>586.711449</td>\n      <td>8.482268</td>\n    </tr>\n    <tr>\n      <th>4</th>\n      <td>Greedy</td>\n      <td>60</td>\n      <td>44274</td>\n      <td>5.082745</td>\n      <td>0.514045</td>\n    </tr>\n    <tr>\n      <th>5</th>\n      <td>Greedy</td>\n      <td>61</td>\n      <td>49273</td>\n      <td>5.452347</td>\n      <td>0.508136</td>\n    </tr>\n    <tr>\n      <th>6</th>\n      <td>Score</td>\n      <td>60</td>\n      <td>39340</td>\n      <td>32.858386</td>\n      <td>29.508450</td>\n    </tr>\n    <tr>\n      <th>7</th>\n      <td>Score</td>\n      <td>61</td>\n      <td>34335</td>\n      <td>25.724968</td>\n      <td>20.799941</td>\n    </tr>\n  </tbody>\n</table>\n</div>"
     },
     "metadata": {},
     "output_type": "execute_result",
     "execution_count": 138
    }
   ],
   "source": [
    "# total decisions per algo\n",
    "df_sum_total = df.groupby(['algorithm', 'run']).sum().reset_index().drop(columns=['flow'])\n",
    "df_sum_total"
   ],
   "metadata": {
    "collapsed": false,
    "pycharm": {
     "name": "#%%\n",
     "is_executing": false
    }
   }
  },
  {
   "cell_type": "code",
   "execution_count": 139,
   "outputs": [
    {
     "data": {
      "text/plain": "       algorithm run    dec_count  dec_time_avg  dec_time_std\n0      B-JointSP  60  4487.000000    809.564816      0.000000\n1      B-JointSP  61  3365.000000    576.444923      0.000000\n2  B-JointSP Re.  60  6237.000000    783.110461     13.120893\n3  B-JointSP Re.  61  4770.000000    586.711449      8.482268\n4         Greedy  60   763.344828      0.087634      0.008863\n5         Greedy  61   849.534483      0.094006      0.008761\n6          Score  60   819.583333      0.684550      0.614759\n7          Score  61   660.288462      0.494711      0.399999",
      "text/html": "<div>\n<style scoped>\n    .dataframe tbody tr th:only-of-type {\n        vertical-align: middle;\n    }\n\n    .dataframe tbody tr th {\n        vertical-align: top;\n    }\n\n    .dataframe thead th {\n        text-align: right;\n    }\n</style>\n<table border=\"1\" class=\"dataframe\">\n  <thead>\n    <tr style=\"text-align: right;\">\n      <th></th>\n      <th>algorithm</th>\n      <th>run</th>\n      <th>dec_count</th>\n      <th>dec_time_avg</th>\n      <th>dec_time_std</th>\n    </tr>\n  </thead>\n  <tbody>\n    <tr>\n      <th>0</th>\n      <td>B-JointSP</td>\n      <td>60</td>\n      <td>4487.000000</td>\n      <td>809.564816</td>\n      <td>0.000000</td>\n    </tr>\n    <tr>\n      <th>1</th>\n      <td>B-JointSP</td>\n      <td>61</td>\n      <td>3365.000000</td>\n      <td>576.444923</td>\n      <td>0.000000</td>\n    </tr>\n    <tr>\n      <th>2</th>\n      <td>B-JointSP Re.</td>\n      <td>60</td>\n      <td>6237.000000</td>\n      <td>783.110461</td>\n      <td>13.120893</td>\n    </tr>\n    <tr>\n      <th>3</th>\n      <td>B-JointSP Re.</td>\n      <td>61</td>\n      <td>4770.000000</td>\n      <td>586.711449</td>\n      <td>8.482268</td>\n    </tr>\n    <tr>\n      <th>4</th>\n      <td>Greedy</td>\n      <td>60</td>\n      <td>763.344828</td>\n      <td>0.087634</td>\n      <td>0.008863</td>\n    </tr>\n    <tr>\n      <th>5</th>\n      <td>Greedy</td>\n      <td>61</td>\n      <td>849.534483</td>\n      <td>0.094006</td>\n      <td>0.008761</td>\n    </tr>\n    <tr>\n      <th>6</th>\n      <td>Score</td>\n      <td>60</td>\n      <td>819.583333</td>\n      <td>0.684550</td>\n      <td>0.614759</td>\n    </tr>\n    <tr>\n      <th>7</th>\n      <td>Score</td>\n      <td>61</td>\n      <td>660.288462</td>\n      <td>0.494711</td>\n      <td>0.399999</td>\n    </tr>\n  </tbody>\n</table>\n</div>"
     },
     "metadata": {},
     "output_type": "execute_result",
     "execution_count": 139
    }
   ],
   "source": [
    "# per node decisions per algo\n",
    "df_sum_by_node = df.groupby(['algorithm', 'node', 'run']).sum().drop(columns=['flow'])\n",
    "# display(df_sum_by_node)\n",
    "df_sum_by_node = df_sum_by_node.groupby(['algorithm', 'run']).mean().reset_index()\n",
    "# df_sum_by_node_std = df_sum_by_node.groupby('algorithm').std().reset_index()\n",
    "df_sum_by_node"
   ],
   "metadata": {
    "collapsed": false,
    "pycharm": {
     "name": "#%%\n",
     "is_executing": false
    }
   }
  },
  {
   "cell_type": "code",
   "execution_count": 140,
   "outputs": [
    {
     "data": {
      "text/plain": "       algorithm run  dec_count  dec_time_avg  dec_time_std\n0      B-JointSP  60   1.000000      0.180425      0.000000\n1      B-JointSP  61   1.000000      0.171306      0.000000\n2  B-JointSP Re.  60   1.435113      0.180191      0.003019\n3  B-JointSP Re.  61   1.400470      0.172258      0.002490\n4         Greedy  60   9.929132      0.001140      0.000115\n5         Greedy  61  14.949333      0.001654      0.000154\n6          Score  60   8.864353      0.007404      0.006649\n7          Score  61  10.191451      0.007636      0.006174",
      "text/html": "<div>\n<style scoped>\n    .dataframe tbody tr th:only-of-type {\n        vertical-align: middle;\n    }\n\n    .dataframe tbody tr th {\n        vertical-align: top;\n    }\n\n    .dataframe thead th {\n        text-align: right;\n    }\n</style>\n<table border=\"1\" class=\"dataframe\">\n  <thead>\n    <tr style=\"text-align: right;\">\n      <th></th>\n      <th>algorithm</th>\n      <th>run</th>\n      <th>dec_count</th>\n      <th>dec_time_avg</th>\n      <th>dec_time_std</th>\n    </tr>\n  </thead>\n  <tbody>\n    <tr>\n      <th>0</th>\n      <td>B-JointSP</td>\n      <td>60</td>\n      <td>1.000000</td>\n      <td>0.180425</td>\n      <td>0.000000</td>\n    </tr>\n    <tr>\n      <th>1</th>\n      <td>B-JointSP</td>\n      <td>61</td>\n      <td>1.000000</td>\n      <td>0.171306</td>\n      <td>0.000000</td>\n    </tr>\n    <tr>\n      <th>2</th>\n      <td>B-JointSP Re.</td>\n      <td>60</td>\n      <td>1.435113</td>\n      <td>0.180191</td>\n      <td>0.003019</td>\n    </tr>\n    <tr>\n      <th>3</th>\n      <td>B-JointSP Re.</td>\n      <td>61</td>\n      <td>1.400470</td>\n      <td>0.172258</td>\n      <td>0.002490</td>\n    </tr>\n    <tr>\n      <th>4</th>\n      <td>Greedy</td>\n      <td>60</td>\n      <td>9.929132</td>\n      <td>0.001140</td>\n      <td>0.000115</td>\n    </tr>\n    <tr>\n      <th>5</th>\n      <td>Greedy</td>\n      <td>61</td>\n      <td>14.949333</td>\n      <td>0.001654</td>\n      <td>0.000154</td>\n    </tr>\n    <tr>\n      <th>6</th>\n      <td>Score</td>\n      <td>60</td>\n      <td>8.864353</td>\n      <td>0.007404</td>\n      <td>0.006649</td>\n    </tr>\n    <tr>\n      <th>7</th>\n      <td>Score</td>\n      <td>61</td>\n      <td>10.191451</td>\n      <td>0.007636</td>\n      <td>0.006174</td>\n    </tr>\n  </tbody>\n</table>\n</div>"
     },
     "metadata": {},
     "output_type": "execute_result",
     "execution_count": 140
    }
   ],
   "source": [
    "# per flow decisions per algo\n",
    "df_sum_by_flow = df.groupby(['algorithm', 'flow', 'run']).sum()\n",
    "# display(df_sum_by_flow)\n",
    "df_sum_by_flow = df_sum_by_flow.groupby(['algorithm', 'run']).mean().reset_index()\n",
    "# df_sum_by_flow_std = df_sum_by_flow.groupby('algorithm').std().reset_index()\n",
    "df_sum_by_flow"
   ],
   "metadata": {
    "collapsed": false,
    "pycharm": {
     "name": "#%%\n",
     "is_executing": false
    }
   }
  },
  {
   "cell_type": "code",
   "execution_count": 141,
   "outputs": [
    {
     "data": {
      "text/plain": "       algorithm run  dec_count  dec_time_avg  dec_time_std    agg\n0      B-JointSP  60     4487.0    809.564816      0.000000  Total\n1      B-JointSP  61     3365.0    576.444923      0.000000  Total\n2  B-JointSP Re.  60     6237.0    783.110461     13.120893  Total\n3  B-JointSP Re.  61     4770.0    586.711449      8.482268  Total\n4         Greedy  60    44274.0      5.082745      0.514045  Total",
      "text/html": "<div>\n<style scoped>\n    .dataframe tbody tr th:only-of-type {\n        vertical-align: middle;\n    }\n\n    .dataframe tbody tr th {\n        vertical-align: top;\n    }\n\n    .dataframe thead th {\n        text-align: right;\n    }\n</style>\n<table border=\"1\" class=\"dataframe\">\n  <thead>\n    <tr style=\"text-align: right;\">\n      <th></th>\n      <th>algorithm</th>\n      <th>run</th>\n      <th>dec_count</th>\n      <th>dec_time_avg</th>\n      <th>dec_time_std</th>\n      <th>agg</th>\n    </tr>\n  </thead>\n  <tbody>\n    <tr>\n      <th>0</th>\n      <td>B-JointSP</td>\n      <td>60</td>\n      <td>4487.0</td>\n      <td>809.564816</td>\n      <td>0.000000</td>\n      <td>Total</td>\n    </tr>\n    <tr>\n      <th>1</th>\n      <td>B-JointSP</td>\n      <td>61</td>\n      <td>3365.0</td>\n      <td>576.444923</td>\n      <td>0.000000</td>\n      <td>Total</td>\n    </tr>\n    <tr>\n      <th>2</th>\n      <td>B-JointSP Re.</td>\n      <td>60</td>\n      <td>6237.0</td>\n      <td>783.110461</td>\n      <td>13.120893</td>\n      <td>Total</td>\n    </tr>\n    <tr>\n      <th>3</th>\n      <td>B-JointSP Re.</td>\n      <td>61</td>\n      <td>4770.0</td>\n      <td>586.711449</td>\n      <td>8.482268</td>\n      <td>Total</td>\n    </tr>\n    <tr>\n      <th>4</th>\n      <td>Greedy</td>\n      <td>60</td>\n      <td>44274.0</td>\n      <td>5.082745</td>\n      <td>0.514045</td>\n      <td>Total</td>\n    </tr>\n  </tbody>\n</table>\n</div>"
     },
     "metadata": {},
     "output_type": "execute_result",
     "execution_count": 141
    }
   ],
   "source": [
    "# concat dfs for long format\n",
    "df_sum_total['agg'] = 'Total'\n",
    "df_sum_by_node['agg'] = 'Per Node'\n",
    "df_sum_by_flow['agg'] = 'Per Flow'\n",
    "df_all = df_sum_total.append([df_sum_by_flow, df_sum_by_node])\n",
    "df_all.head()\n"
   ],
   "metadata": {
    "collapsed": false,
    "pycharm": {
     "name": "#%%\n",
     "is_executing": false
    }
   }
  },
  {
   "cell_type": "code",
   "execution_count": 142,
   "outputs": [
    {
     "data": {
      "text/plain": "<matplotlib.legend.Legend at 0x25bed1577b8>"
     },
     "metadata": {},
     "output_type": "execute_result",
     "execution_count": 142
    },
    {
     "data": {
      "text/plain": "<Figure size 288x288 with 1 Axes>",
      "image/png": "[encoded data removed]"
     },
     "metadata": {},
     "output_type": "display_data"
    }
   ],
   "source": [
    "# plot num decisions\n",
    "fig, ax = plt.subplots(figsize=(4, 4))\n",
    "sns.set(font_scale=1.1, style='white')\n",
    "\n",
    "sns.barplot('agg', 'dec_count', hue='algorithm', hue_order=labels, data=df_all, ax=ax)\n",
    "ax.set_xlabel('Aggregation of Measurements')\n",
    "ax.set_ylabel('Number of Coordination Decisions')\n",
    "ax.set_yscale('log')\n",
    "\n",
    "# remove legend title\n",
    "handles, _ = ax.get_legend_handles_labels()\n",
    "ax.legend(handles=handles, labels=labels)\n",
    "    "
   ],
   "metadata": {
    "collapsed": false,
    "pycharm": {
     "name": "#%%\n",
     "is_executing": false
    }
   }
  },
  {
   "cell_type": "code",
   "execution_count": 143,
   "outputs": [
    {
     "data": {
      "text/plain": "<matplotlib.legend.Legend at 0x25becc9c278>"
     },
     "metadata": {},
     "output_type": "execute_result",
     "execution_count": 143
    },
    {
     "data": {
      "text/plain": "<Figure size 288x288 with 1 Axes>",
      "image/png": "[encoded data removed]"
     },
     "metadata": {},
     "output_type": "display_data"
    }
   ],
   "source": [
    "# plot runtimes\n",
    "fig, ax = plt.subplots(figsize=(4, 4))\n",
    "sns.set(font_scale=1.1, style='white')\n",
    "\n",
    "sns.barplot('agg', 'dec_time_avg', hue='algorithm', hue_order=labels, data=df_all, ax=ax)\n",
    "ax.set_xlabel('Aggregated of Measurements')\n",
    "ax.set_ylabel('Runtime of Coordination Decisions [s]')\n",
    "ax.set_yscale('log')\n",
    "\n",
    "# remove legend title\n",
    "handles, _ = ax.get_legend_handles_labels()\n",
    "ax.legend(handles=handles, labels=labels)"
   ],
   "metadata": {
    "collapsed": false,
    "pycharm": {
     "name": "#%%\n",
     "is_executing": false
    }
   }
  },
  {
   "cell_type": "code",
   "execution_count": 143,
   "outputs": [],
   "source": [
    "\n"
   ],
   "metadata": {
    "collapsed": false,
    "pycharm": {
     "name": "#%%\n",
     "is_executing": false
    }
   }
  }
 ],
 "metadata": {
  "kernelspec": {
   "display_name": "Python 3",
   "language": "python",
   "name": "python3"
  },
  "language_info": {
   "codemirror_mode": {
    "name": "ipython",
    "version": 2
   },
   "file_extension": ".py",
   "mimetype": "text/x-python",
   "name": "python",
   "nbconvert_exporter": "python",
   "pygments_lexer": "ipython2",
   "version": "2.7.6"
  },
  "pycharm": {
   "stem_cell": {
    "cell_type": "raw",
    "source": [],
    "metadata": {
     "collapsed": false
    }
   }
  }
 },
 "nbformat": 4,
 "nbformat_minor": 0
}