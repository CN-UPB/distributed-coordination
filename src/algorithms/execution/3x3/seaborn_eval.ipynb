{
 "cells": [
  {
   "cell_type": "markdown",
   "metadata": {
    "collapsed": true,
    "pycharm": {
     "name": "#%% md\n"
    }
   },
   "source": [
    "# Plotting of Evaluation Results\n",
    "\n",
    "*Here, use seaborn, which calculates a bootstrapped 95% CI, which looks nicer and more narrow than \n",
    "with matplotlib*\n",
    "\n",
    "Results aggregated with `aggregator.py 0 49`. Specify which results to aggregate in `settings.py`.\n",
    "`0 49` means aggregate run 0-49; adjust as needed.\n",
    "\n",
    "Results are inside `transformed_0-49`. `ci-t-metrics.csv` are the correct results.\n",
    "\n",
    "Goal: Show that the algorithms achieve good results in terms of successful flows and delay.\n",
    "Compare the different algorithms. Also differnt capacities. Focus on DFN network (58 nodes) and large GTS CE (149 nodes).\n",
    "\n",
    "Seems like SPR1 is just worse than SPR2. I might drop it from the paper.\n",
    "\n",
    "## Successful flows"
   ]
  },
  {
   "cell_type": "code",
   "execution_count": 42,
   "outputs": [],
   "source": [
    "# FIXME: bjointsp and bjointsp_recalc metrics don't record flows until time step 1000 --> much less flows\n",
    "# why are the error bars in matplotlib so much bigger than in seaborn?\n",
    "    # --> seaborn plots the 95% bootstrapped confidence interval by default (!= normal conf interval)"
   ],
   "metadata": {
    "collapsed": false,
    "pycharm": {
     "name": "#%%\n",
     "is_executing": false
    }
   }
  },
  {
   "cell_type": "code",
   "execution_count": 43,
   "outputs": [],
   "source": [
    "import pandas as pd\n",
    "import seaborn as sns\n",
    "import matplotlib.pyplot as plt\n",
    "\n",
    "# settings\n",
    "\n",
    "result_dir = 'transformed'\n",
    "# result_dir = 'transformed_70-72'\n",
    "config = 'hc'\n",
    "network = 'dfn_58.graphml'\n",
    "\n",
    "labels = ['GPASP', 'SPR1', 'SPR2', 'BSP', 'BSP Re']\n",
    "markers = ['x', 'o', '+', 'v', '^']"
   ],
   "metadata": {
    "collapsed": false,
    "pycharm": {
     "name": "#%%\n",
     "is_executing": false
    }
   }
  },
  {
   "cell_type": "code",
   "execution_count": 44,
   "outputs": [
    {
     "data": {
      "text/plain": "   Ingress %   Value                 Metric Algorithm\n0        0.1  1340.0            total_flows     gpasp\n1        0.1  1298.0       successful_flows     gpasp\n2        0.1     0.0          dropped_flows     gpasp\n3        0.1    42.0       in_network_flows     gpasp\n4        0.1     1.0  perc_successful_flows     gpasp",
      "text/html": "<div>\n<style scoped>\n    .dataframe tbody tr th:only-of-type {\n        vertical-align: middle;\n    }\n\n    .dataframe tbody tr th {\n        vertical-align: top;\n    }\n\n    .dataframe thead th {\n        text-align: right;\n    }\n</style>\n<table border=\"1\" class=\"dataframe\">\n  <thead>\n    <tr style=\"text-align: right;\">\n      <th></th>\n      <th>Ingress %</th>\n      <th>Value</th>\n      <th>Metric</th>\n      <th>Algorithm</th>\n    </tr>\n  </thead>\n  <tbody>\n    <tr>\n      <th>0</th>\n      <td>0.1</td>\n      <td>1340.0</td>\n      <td>total_flows</td>\n      <td>gpasp</td>\n    </tr>\n    <tr>\n      <th>1</th>\n      <td>0.1</td>\n      <td>1298.0</td>\n      <td>successful_flows</td>\n      <td>gpasp</td>\n    </tr>\n    <tr>\n      <th>2</th>\n      <td>0.1</td>\n      <td>0.0</td>\n      <td>dropped_flows</td>\n      <td>gpasp</td>\n    </tr>\n    <tr>\n      <th>3</th>\n      <td>0.1</td>\n      <td>42.0</td>\n      <td>in_network_flows</td>\n      <td>gpasp</td>\n    </tr>\n    <tr>\n      <th>4</th>\n      <td>0.1</td>\n      <td>1.0</td>\n      <td>perc_successful_flows</td>\n      <td>gpasp</td>\n    </tr>\n  </tbody>\n</table>\n</div>"
     },
     "metadata": {},
     "output_type": "execute_result",
     "execution_count": 44
    }
   ],
   "source": [
    "df = pd.read_csv(f'{result_dir}/{config}/{network}/flow/ci-t-metrics.csv',\n",
    "                 names=['Ingress %', 'Value', 'Metric', 'Algorithm'])\n",
    "df.head()\n"
   ],
   "metadata": {
    "collapsed": false,
    "pycharm": {
     "name": "#%%\n",
     "is_executing": false
    }
   }
  },
  {
   "cell_type": "code",
   "execution_count": 45,
   "outputs": [],
   "source": [
    "def plot_successful(df, labels):\n",
    "    fig, ax = plt.subplots(figsize=(4, 4))\n",
    "    sns.set(font_scale=1.1, style='white')\n",
    "    \n",
    "    df_successful = df[df['Metric'] == 'perc_successful_flows']\n",
    "    print(df_successful['Algorithm'].unique())\n",
    "    \n",
    "    sns.lineplot(df_successful['Ingress %'], df_successful['Value'], hue=df_successful['Algorithm'], ax=ax,\n",
    "                 err_style='bars', err_kws={'capsize': 4},\n",
    "                 style=df_successful['Algorithm'], markers=True, legend=False)\n",
    "    \n",
    "    ax.set_xlabel('Ingress %')\n",
    "    ax.set_ylabel('Successful Flows [%]')\n",
    "    # ax.set_ylim(0, 1.05)\n",
    "    ax.tick_params(axis='both', direction='inout', length=5, bottom=True, left=True, right=True, top=True)\n",
    "    \n",
    "    # TODO: adjust to order in printed algorithm order\n",
    "    plt.legend(labels=labels)\n"
   ],
   "metadata": {
    "collapsed": false,
    "pycharm": {
     "name": "#%%\n",
     "is_executing": false
    }
   }
  },
  {
   "cell_type": "code",
   "execution_count": 46,
   "outputs": [
    {
     "name": "stdout",
     "text": [
      "['gpasp' 'spr1' 'spr2']\n"
     ],
     "output_type": "stream"
    },
    {
     "data": {
      "text/plain": "<Figure size 288x288 with 1 Axes>",
      "image/png": "[encoded data removed]"
     },
     "metadata": {},
     "output_type": "display_data"
    }
   ],
   "source": [
    "plot_successful(df, labels=['GPASP', 'SPR1', 'SPR2'])\n"
   ],
   "metadata": {
    "collapsed": false,
    "pycharm": {
     "name": "#%%\n",
     "is_executing": false
    }
   }
  }
 ],
 "metadata": {
  "kernelspec": {
   "display_name": "Python 3",
   "language": "python",
   "name": "python3"
  },
  "language_info": {
   "codemirror_mode": {
    "name": "ipython",
    "version": 2
   },
   "file_extension": ".py",
   "mimetype": "text/x-python",
   "name": "python",
   "nbconvert_exporter": "python",
   "pygments_lexer": "ipython2",
   "version": "2.7.6"
  },
  "pycharm": {
   "stem_cell": {
    "cell_type": "raw",
    "source": [],
    "metadata": {
     "collapsed": false
    }
   }
  }
 },
 "nbformat": 4,
 "nbformat_minor": 0
}