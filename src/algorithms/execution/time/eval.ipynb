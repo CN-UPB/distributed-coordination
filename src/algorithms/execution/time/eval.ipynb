{
 "cells": [
  {
   "cell_type": "markdown",
   "metadata": {
    "collapsed": true,
    "pycharm": {
     "name": "#%% md\n"
    }
   },
   "source": [
    "# Plotting of Evaluation Results\n",
    "\n",
    "You need to run `aggregator.py` first. Specify which results to aggregate in `settings.py`."
   ]
  },
  {
   "cell_type": "code",
   "execution_count": 41,
   "outputs": [],
   "source": [
    "import pandas as pd\n",
    "import seaborn as sns\n",
    "import matplotlib.pyplot as plt\n",
    "\n",
    "df = pd.read_csv('transformed/hc_0.3+/gts_ce_149.graphml/flow/t-metrics.csv',\n",
    "                 names=['Time', 'Value', 'Metric', 'Algorithm'])"
   ],
   "metadata": {
    "collapsed": false,
    "pycharm": {
     "name": "#%%\n",
     "is_executing": false
    }
   }
  },
  {
   "cell_type": "code",
   "execution_count": 42,
   "outputs": [
    {
     "data": {
      "text/plain": "   Time  Value            Metric Algorithm\n0     0     49       total_flows     gpasp\n1     0      0  successful_flows     gpasp\n2     0      0     dropped_flows     gpasp\n3     0     49  in_network_flows     gpasp\n4   100   1165       total_flows     gpasp",
      "text/html": "<div>\n<style scoped>\n    .dataframe tbody tr th:only-of-type {\n        vertical-align: middle;\n    }\n\n    .dataframe tbody tr th {\n        vertical-align: top;\n    }\n\n    .dataframe thead th {\n        text-align: right;\n    }\n</style>\n<table border=\"1\" class=\"dataframe\">\n  <thead>\n    <tr style=\"text-align: right;\">\n      <th></th>\n      <th>Time</th>\n      <th>Value</th>\n      <th>Metric</th>\n      <th>Algorithm</th>\n    </tr>\n  </thead>\n  <tbody>\n    <tr>\n      <th>0</th>\n      <td>0</td>\n      <td>49</td>\n      <td>total_flows</td>\n      <td>gpasp</td>\n    </tr>\n    <tr>\n      <th>1</th>\n      <td>0</td>\n      <td>0</td>\n      <td>successful_flows</td>\n      <td>gpasp</td>\n    </tr>\n    <tr>\n      <th>2</th>\n      <td>0</td>\n      <td>0</td>\n      <td>dropped_flows</td>\n      <td>gpasp</td>\n    </tr>\n    <tr>\n      <th>3</th>\n      <td>0</td>\n      <td>49</td>\n      <td>in_network_flows</td>\n      <td>gpasp</td>\n    </tr>\n    <tr>\n      <th>4</th>\n      <td>100</td>\n      <td>1165</td>\n      <td>total_flows</td>\n      <td>gpasp</td>\n    </tr>\n  </tbody>\n</table>\n</div>"
     },
     "metadata": {},
     "output_type": "execute_result",
     "execution_count": 42
    }
   ],
   "source": [
    "df.head()"
   ],
   "metadata": {
    "collapsed": false,
    "pycharm": {
     "name": "#%%\n",
     "is_executing": false
    }
   }
  },
  {
   "cell_type": "code",
   "execution_count": 43,
   "outputs": [
    {
     "data": {
      "text/plain": "<matplotlib.axes._subplots.AxesSubplot at 0x196896222e8>"
     },
     "metadata": {},
     "output_type": "execute_result",
     "execution_count": 43
    },
    {
     "data": {
      "text/plain": "<Figure size 432x288 with 1 Axes>",
      "image/png": "[encoded data removed]"
     },
     "metadata": {
      "needs_background": "light"
     },
     "output_type": "display_data"
    }
   ],
   "source": [
    "# plot successful flows with seaborn (needs long format)\n",
    "df_successful = df[df['Metric'] == 'successful_flows']\n",
    "sns.lineplot(df_successful['Time'], df_successful['Value'], hue=df_successful['Algorithm'])"
   ],
   "metadata": {
    "collapsed": false,
    "pycharm": {
     "name": "#%%\n",
     "is_executing": false
    }
   }
  },
  {
   "cell_type": "code",
   "execution_count": 44,
   "outputs": [
    {
     "data": {
      "text/plain": "   Time  Successful  Dropped  In-network  Total  % Successful\n0     0           0        0          49     49           0.0\n1     0           0        0          49     49           0.0\n2     0           0        0          45     45           0.0\n3     0           0        0          51     51           0.0\n4     0           0        0          48     48           0.0",
      "text/html": "<div>\n<style scoped>\n    .dataframe tbody tr th:only-of-type {\n        vertical-align: middle;\n    }\n\n    .dataframe tbody tr th {\n        vertical-align: top;\n    }\n\n    .dataframe thead th {\n        text-align: right;\n    }\n</style>\n<table border=\"1\" class=\"dataframe\">\n  <thead>\n    <tr style=\"text-align: right;\">\n      <th></th>\n      <th>Time</th>\n      <th>Successful</th>\n      <th>Dropped</th>\n      <th>In-network</th>\n      <th>Total</th>\n      <th>% Successful</th>\n    </tr>\n  </thead>\n  <tbody>\n    <tr>\n      <th>0</th>\n      <td>0</td>\n      <td>0</td>\n      <td>0</td>\n      <td>49</td>\n      <td>49</td>\n      <td>0.0</td>\n    </tr>\n    <tr>\n      <th>1</th>\n      <td>0</td>\n      <td>0</td>\n      <td>0</td>\n      <td>49</td>\n      <td>49</td>\n      <td>0.0</td>\n    </tr>\n    <tr>\n      <th>2</th>\n      <td>0</td>\n      <td>0</td>\n      <td>0</td>\n      <td>45</td>\n      <td>45</td>\n      <td>0.0</td>\n    </tr>\n    <tr>\n      <th>3</th>\n      <td>0</td>\n      <td>0</td>\n      <td>0</td>\n      <td>51</td>\n      <td>51</td>\n      <td>0.0</td>\n    </tr>\n    <tr>\n      <th>4</th>\n      <td>0</td>\n      <td>0</td>\n      <td>0</td>\n      <td>48</td>\n      <td>48</td>\n      <td>0.0</td>\n    </tr>\n  </tbody>\n</table>\n</div>"
     },
     "metadata": {},
     "output_type": "execute_result",
     "execution_count": 44
    }
   ],
   "source": [
    "def long_to_wide(df, alg):\n",
    "    \"\"\"Convert the long df to wide layout. Extract data for specified algorithm. Calculate total, % successful flows.\"\"\"\n",
    "    # long to wide\n",
    "    df_alg = df[df['Algorithm'] == alg]\n",
    "    df_wide = df_alg[df_alg['Metric'] == 'successful_flows'][['Time', 'Value']]\n",
    "    df_wide.rename(columns={'Value': 'Successful'}, inplace=True)\n",
    "    # extract dropped flows\n",
    "    df_tmp = df_alg[df_alg['Metric'] == 'dropped_flows'][['Time', 'Value']]\n",
    "    df_tmp.rename(columns={'Value': 'Dropped'}, inplace=True)\n",
    "    df_wide = pd.merge(df_wide, df_tmp, on='Time')\n",
    "    # extract in-network flows\n",
    "    df_tmp = df_alg[df_alg['Metric'] == 'in_network_flows'][['Time', 'Value']]\n",
    "    df_tmp.rename(columns={'Value': 'In-network'}, inplace=True)\n",
    "    df_wide = pd.merge(df_wide, df_tmp, on='Time')\n",
    "    \n",
    "    # calc total and % succesful flows\n",
    "    df_wide['Total'] = df_wide['Successful'] + df_wide['Dropped'] + df_wide['In-network']\n",
    "    df_wide['% Successful'] = df_wide['Successful'] / df_wide['Total']\n",
    "    return df_wide\n",
    "    \n",
    "df_gpasp = long_to_wide(df, 'gpasp')\n",
    "df_gpasp.head()"
   ],
   "metadata": {
    "collapsed": false,
    "pycharm": {
     "name": "#%%\n",
     "is_executing": false
    }
   }
  },
  {
   "cell_type": "code",
   "execution_count": 45,
   "outputs": [],
   "source": [
    "def df_mean_std(df, group_by=['Time']):\n",
    "    \"\"\"Return 2 new dfs with 1) average and 2) std values\"\"\"\n",
    "    df_mean = df.groupby(group_by).mean().reset_index()\n",
    "    df_std = df.groupby(group_by).std().reset_index()\n",
    "    return df_mean, df_std"
   ],
   "metadata": {
    "collapsed": false,
    "pycharm": {
     "name": "#%%\n",
     "is_executing": false
    }
   }
  },
  {
   "cell_type": "code",
   "execution_count": 46,
   "outputs": [
    {
     "data": {
      "text/plain": "   Time  Successful  Dropped  In-network    Total  % Successful\n0     0        0.00     0.00       42.94    42.94      0.000000\n1   100      278.28    11.90      693.72   983.90      0.285475\n2   200     1030.30    87.02      821.76  1939.08      0.533983\n3   300     1844.56   200.96      842.46  2887.98      0.641091\n4   400     2665.80   322.36      851.88  3840.04      0.696516",
      "text/html": "<div>\n<style scoped>\n    .dataframe tbody tr th:only-of-type {\n        vertical-align: middle;\n    }\n\n    .dataframe tbody tr th {\n        vertical-align: top;\n    }\n\n    .dataframe thead th {\n        text-align: right;\n    }\n</style>\n<table border=\"1\" class=\"dataframe\">\n  <thead>\n    <tr style=\"text-align: right;\">\n      <th></th>\n      <th>Time</th>\n      <th>Successful</th>\n      <th>Dropped</th>\n      <th>In-network</th>\n      <th>Total</th>\n      <th>% Successful</th>\n    </tr>\n  </thead>\n  <tbody>\n    <tr>\n      <th>0</th>\n      <td>0</td>\n      <td>0.00</td>\n      <td>0.00</td>\n      <td>42.94</td>\n      <td>42.94</td>\n      <td>0.000000</td>\n    </tr>\n    <tr>\n      <th>1</th>\n      <td>100</td>\n      <td>278.28</td>\n      <td>11.90</td>\n      <td>693.72</td>\n      <td>983.90</td>\n      <td>0.285475</td>\n    </tr>\n    <tr>\n      <th>2</th>\n      <td>200</td>\n      <td>1030.30</td>\n      <td>87.02</td>\n      <td>821.76</td>\n      <td>1939.08</td>\n      <td>0.533983</td>\n    </tr>\n    <tr>\n      <th>3</th>\n      <td>300</td>\n      <td>1844.56</td>\n      <td>200.96</td>\n      <td>842.46</td>\n      <td>2887.98</td>\n      <td>0.641091</td>\n    </tr>\n    <tr>\n      <th>4</th>\n      <td>400</td>\n      <td>2665.80</td>\n      <td>322.36</td>\n      <td>851.88</td>\n      <td>3840.04</td>\n      <td>0.696516</td>\n    </tr>\n  </tbody>\n</table>\n</div>"
     },
     "metadata": {},
     "output_type": "execute_result",
     "execution_count": 46
    }
   ],
   "source": [
    "df_mean, df_std = df_mean_std(df_gpasp)\n",
    "df_mean.head()"
   ],
   "metadata": {
    "collapsed": false,
    "pycharm": {
     "name": "#%%\n",
     "is_executing": false
    }
   }
  },
  {
   "cell_type": "code",
   "execution_count": 47,
   "outputs": [
    {
     "data": {
      "text/plain": "<ErrorbarContainer object of 3 artists>"
     },
     "metadata": {},
     "output_type": "execute_result",
     "execution_count": 47
    },
    {
     "data": {
      "text/plain": "<Figure size 432x288 with 1 Axes>",
      "image/png": "[encoded data removed]"
     },
     "metadata": {
      "needs_background": "light"
     },
     "output_type": "display_data"
    }
   ],
   "source": [
    "fig, ax = plt.subplots()\n",
    "ax.errorbar(df_mean['Time'], df_mean['% Successful'], yerr=df_std['% Successful'])"
   ],
   "metadata": {
    "collapsed": false,
    "pycharm": {
     "name": "#%%\n",
     "is_executing": false
    }
   }
  },
  {
   "cell_type": "code",
   "execution_count": 47,
   "outputs": [],
   "source": [
    "\n"
   ],
   "metadata": {
    "collapsed": false,
    "pycharm": {
     "name": "#%%\n",
     "is_executing": false
    }
   }
  }
 ],
 "metadata": {
  "kernelspec": {
   "display_name": "Python 3",
   "language": "python",
   "name": "python3"
  },
  "language_info": {
   "codemirror_mode": {
    "name": "ipython",
    "version": 2
   },
   "file_extension": ".py",
   "mimetype": "text/x-python",
   "name": "python",
   "nbconvert_exporter": "python",
   "pygments_lexer": "ipython2",
   "version": "2.7.6"
  },
  "pycharm": {
   "stem_cell": {
    "cell_type": "raw",
    "source": [],
    "metadata": {
     "collapsed": false
    }
   }
  }
 },
 "nbformat": 4,
 "nbformat_minor": 0
}